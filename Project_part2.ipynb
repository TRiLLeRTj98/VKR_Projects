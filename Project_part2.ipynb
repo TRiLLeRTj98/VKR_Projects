{
 "cells": [
  {
   "cell_type": "markdown",
   "metadata": {},
   "source": [
    "# Что такое Резнет?\n",
    "\n",
    "ResNet, сокращение от Residual Network, — это особый тип нейронной сети, который был представлен в 2015 году Кайминг Хэ, Сянъюй Чжан, Шаоцин Рен и Цзянь Сунь в их статье «Глубокое остаточное обучение для распознавания изображений». Модели ResNet были чрезвычайно успешными.\n",
    "\n",
    "Занял 1-е место в классификационном конкурсе ILSVRC 2015 с коэффициентом ошибок в пятерке лучших 3,57% (ансамблевая модель).\n",
    "\n",
    "Занял 1-е место на соревнованиях ILSVRC и COCO 2015 в категориях ImageNet Detection, ImageNet локализации, Coco обнаружения и Coco сегментации.\n",
    "\n",
    "Замена слоев VGG-16 в Faster R-CNN на ResNet-101. Они наблюдали относительное улучшение на 28%.\n",
    "\n",
    "Эффективно обученные сети со 100 и 1000 слоями."
   ]
  },
  {
   "cell_type": "markdown",
   "metadata": {},
   "source": [
    "### Потребность в резнете\n",
    "\n",
    "В основном для того, чтобы решить сложную проблему, мы добавляем несколько дополнительных слоев в глубокие нейронные сети, что приводит к повышению точности и производительности. Интуиция, стоящая за добавлением дополнительных слоев, заключается в том, что эти слои постепенно изучают более сложные функции. Например, в случае распознавания изображений первый уровень может научиться обнаруживать края, второй уровень может научиться определять текстуры, и аналогичным образом третий уровень может научиться обнаруживать объекты и так далее. Но было обнаружено, что для традиционной модели сверточной нейронной сети существует максимальный порог глубины. Вот график, который описывает процент ошибок в данных обучения и тестирования для 20-слойной сети и 56-уровневой сети.\n"
   ]
  },
  {
   "cell_type": "markdown",
   "metadata": {},
   "source": [
    "#### Импортируем библиотеки"
   ]
  },
  {
   "cell_type": "code",
   "execution_count": null,
   "metadata": {},
   "outputs": [],
   "source": [
    "from tensorflow.keras.layers import Conv2D, Flatten, Dense, MaxPool2D, BatchNormalization, GlobalAveragePooling2D\n",
    "from tensorflow.keras.applications.resnet50 import ResNet50, preprocess_input, decode_predictions\n",
    "from tensorflow.keras.preprocessing import image\n",
    "from tensorflow.keras.preprocessing.image import ImageDataGenerator, load_img\n",
    "from tensorflow.keras.models import Sequential, Model\n",
    "\n",
    "import matplotlib.pyplot as plt\n",
    "import numpy as np\n",
    "import warnings\n",
    "warnings.filterwarnings(\"ignore\")"
   ]
  },
  {
   "cell_type": "code",
   "execution_count": 2,
   "metadata": {},
   "outputs": [],
   "source": [
    "import splitfolders"
   ]
  },
  {
   "cell_type": "markdown",
   "metadata": {},
   "source": [
    "#### Установим начальные параметры для дальнейшей работы"
   ]
  },
  {
   "cell_type": "code",
   "execution_count": 3,
   "metadata": {},
   "outputs": [
    {
     "name": "stderr",
     "output_type": "stream",
     "text": [
      "Copying files: 1600 files [00:02, 542.23 files/s]\n"
     ]
    }
   ],
   "source": [
    "SEED = 42\n",
    "\n",
    "TRAIN_R = 0.6\n",
    "VAL_R = 0.2\n",
    "TEST_R = 0.2\n",
    "\n",
    "IMG_HEIGHT, IMG_WIDTH = (224, 224)\n",
    "BATCH_SIZE = 32\n",
    "\n",
    "DATA_DIR_PATH = \"training\"\n",
    "OUTPUT_DIR = \"split_images\"\n",
    "\n",
    "\n",
    "splitfolders.ratio(DATA_DIR_PATH, OUTPUT_DIR, seed=SEED, ratio=(TRAIN_R, VAL_R, TEST_R))"
   ]
  },
  {
   "cell_type": "markdown",
   "metadata": {},
   "source": [
    "#### ImageDataGenerator - Создание пакетов данных тензорного изображения с увеличением данных в реальном времени."
   ]
  },
  {
   "cell_type": "code",
   "execution_count": 4,
   "metadata": {},
   "outputs": [],
   "source": [
    "train_data_dir = f\"{OUTPUT_DIR}/train\"\n",
    "valid_data_dir = f\"{OUTPUT_DIR}/val\"\n",
    "test_data_dir = f\"{OUTPUT_DIR}/test\"\n",
    "\n",
    "train_datagen = ImageDataGenerator(\n",
    "    preprocessing_function=preprocess_input,\n",
    "    shear_range=0.2,\n",
    "    zoom_range=0.2,\n",
    "    horizontal_flip=True)\n",
    "\n",
    "test_datagen = ImageDataGenerator(\n",
    "    preprocessing_function=preprocess_input)"
   ]
  },
  {
   "cell_type": "markdown",
   "metadata": {},
   "source": [
    "### flow_from_directory :\n",
    "flow_from_directory (directory): принимает путь к папке в качестве параметра, генерирует данные, которые были обновлены / нормализованы, и генерирует пакетные данные в бесконечном цикле"
   ]
  },
  {
   "cell_type": "code",
   "execution_count": 5,
   "metadata": {},
   "outputs": [
    {
     "name": "stdout",
     "output_type": "stream",
     "text": [
      "Found 960 images belonging to 9 classes.\n",
      "Found 320 images belonging to 9 classes.\n",
      "Found 320 images belonging to 9 classes.\n"
     ]
    }
   ],
   "source": [
    "train_generator = train_datagen.flow_from_directory(\n",
    "    train_data_dir,\n",
    "    target_size=(IMG_HEIGHT, IMG_WIDTH),\n",
    "    batch_size=BATCH_SIZE,\n",
    "    class_mode=\"categorical\")\n",
    "\n",
    "valid_generator = train_datagen.flow_from_directory(\n",
    "    valid_data_dir,\n",
    "    target_size=(IMG_HEIGHT, IMG_WIDTH),\n",
    "    batch_size=BATCH_SIZE,\n",
    "    class_mode=\"categorical\")\n",
    "\n",
    "\n",
    "test_generator = test_datagen.flow_from_directory(\n",
    "    test_data_dir,\n",
    "    target_size=(IMG_HEIGHT, IMG_WIDTH),\n",
    "    batch_size=1,\n",
    "    class_mode=\"categorical\")"
   ]
  },
  {
   "cell_type": "markdown",
   "metadata": {},
   "source": [
    "ResNet-50 — это сверточная нейронная сеть с глубиной 50 слоев. Можно загрузить предварительно обученную версию сети, обученную на более чем миллионе изображений из базы данных ImageNet [1]. Предварительно обученная сеть может классифицировать изображения по 1000 категориям объектов. В результате сеть изучила богатые представления функций для широкого спектра изображений. Сеть имеет входной размер изображения 224 на 224."
   ]
  },
  {
   "cell_type": "code",
   "execution_count": 6,
   "metadata": {},
   "outputs": [
    {
     "name": "stdout",
     "output_type": "stream",
     "text": [
      "Epoch 1/10\n",
      "30/30 [==============================] - 176s 6s/step - loss: 1.2541 - acc: 0.6656 - val_loss: 0.4656 - val_acc: 0.8281\n",
      "Epoch 2/10\n",
      "30/30 [==============================] - 152s 5s/step - loss: 0.2813 - acc: 0.8948 - val_loss: 0.2876 - val_acc: 0.8969\n",
      "Epoch 3/10\n",
      "30/30 [==============================] - 156s 5s/step - loss: 0.2486 - acc: 0.9083 - val_loss: 0.2994 - val_acc: 0.9000\n",
      "Epoch 4/10\n",
      "30/30 [==============================] - 142s 5s/step - loss: 0.1793 - acc: 0.9427 - val_loss: 0.3227 - val_acc: 0.9031\n",
      "Epoch 5/10\n",
      "30/30 [==============================] - 149s 5s/step - loss: 0.0989 - acc: 0.9667 - val_loss: 0.2805 - val_acc: 0.9000\n",
      "Epoch 6/10\n",
      "30/30 [==============================] - 149s 5s/step - loss: 0.1170 - acc: 0.9573 - val_loss: 0.2368 - val_acc: 0.9250\n",
      "Epoch 7/10\n",
      "30/30 [==============================] - 152s 5s/step - loss: 0.0850 - acc: 0.9760 - val_loss: 0.2238 - val_acc: 0.9187\n",
      "Epoch 8/10\n",
      "30/30 [==============================] - 142s 5s/step - loss: 0.0587 - acc: 0.9844 - val_loss: 0.3103 - val_acc: 0.9000\n",
      "Epoch 9/10\n",
      "30/30 [==============================] - 141s 5s/step - loss: 0.0849 - acc: 0.9698 - val_loss: 0.2921 - val_acc: 0.9125\n",
      "Epoch 10/10\n",
      "30/30 [==============================] - 141s 5s/step - loss: 0.0470 - acc: 0.9833 - val_loss: 0.3114 - val_acc: 0.9062\n"
     ]
    }
   ],
   "source": [
    "EPOCHS = 10\n",
    "\n",
    "base_model = ResNet50(include_top=False, weights=\"imagenet\")\n",
    "\n",
    "x = base_model.output\n",
    "x = GlobalAveragePooling2D()(x)\n",
    "x = Dense(1024, activation=\"relu\")(x)\n",
    "\n",
    "predictions = Dense(train_generator.num_classes, activation=\"softmax\")(x)\n",
    "model = Model(inputs=base_model.input, outputs=predictions)\n",
    "\n",
    "for layer in base_model.layers:\n",
    "    layer.trainable = False\n",
    "\n",
    "model.compile(\n",
    "    optimizer=\"adam\",\n",
    "    loss=\"categorical_crossentropy\",\n",
    "    metrics=[\"acc\"])\n",
    "\n",
    "history = model.fit(train_generator,\n",
    "                    validation_data=valid_generator,\n",
    "                    epochs=EPOCHS)"
   ]
  },
  {
   "cell_type": "code",
   "execution_count": 8,
   "metadata": {},
   "outputs": [
    {
     "name": "stdout",
     "output_type": "stream",
     "text": [
      "dict_keys(['loss', 'acc', 'val_loss', 'val_acc'])\n"
     ]
    }
   ],
   "source": [
    "print(history.history.keys())"
   ]
  },
  {
   "cell_type": "code",
   "execution_count": 9,
   "metadata": {},
   "outputs": [
    {
     "data": {
      "image/png": "[encoded data removed]",
      "text/plain": [
       "<Figure size 432x288 with 1 Axes>"
      ]
     },
     "metadata": {
      "needs_background": "light"
     },
     "output_type": "display_data"
    }
   ],
   "source": [
    "# обобщаем историю для точности\n",
    "\n",
    "plt.plot(history.history['acc'])\n",
    "plt.plot(history.history['val_acc'])\n",
    "plt.title('model accuracy')\n",
    "plt.ylabel('accuracy')\n",
    "plt.xlabel('epoch')\n",
    "plt.legend(['train', 'test'], loc='upper left')\n",
    "plt.show()"
   ]
  },
  {
   "cell_type": "code",
   "execution_count": 10,
   "metadata": {},
   "outputs": [
    {
     "data": {
      "image/png": "[encoded data removed]",
      "text/plain": [
       "<Figure size 432x288 with 1 Axes>"
      ]
     },
     "metadata": {
      "needs_background": "light"
     },
     "output_type": "display_data"
    }
   ],
   "source": [
    "# суммируем историю потерь\n",
    "\n",
    "plt.plot(history.history['loss'])\n",
    "plt.plot(history.history['val_loss'])\n",
    "plt.title('model loss')\n",
    "plt.ylabel('loss')\n",
    "plt.xlabel('epoch')\n",
    "plt.legend(['train', 'test'], loc='upper left')\n",
    "plt.show()"
   ]
  },
  {
   "cell_type": "code",
   "execution_count": 11,
   "metadata": {},
   "outputs": [
    {
     "name": "stdout",
     "output_type": "stream",
     "text": [
      "320/320 - 56s - loss: 0.2360 - acc: 0.9219 - 56s/epoch - 175ms/step\n",
      "\test accuracy: 0.921875\n"
     ]
    }
   ],
   "source": [
    "model.save('clothes_data\\Saved_Model\\ResNet50_clothes.h5' )\n",
    "\n",
    "test_loss, test_acc = model.evaluate(test_generator, verbose=2)\n",
    "print('\\test accuracy:', test_acc)"
   ]
  },
  {
   "cell_type": "markdown",
   "metadata": {},
   "source": [
    "### Confusion Matrix\n",
    "Визуализатор ConfusionMatrix — это ScoreVisualizer, который берет подобранный классификатор scikit-learn и набор тестовых значений X и y и возвращает отчет, показывающий, как каждый из тестовых значений спрогнозированных классов сравнивается с их фактическими классами. Исследователи данных используют Confusion Matrix, чтобы понять, какие классы легче всего спутать. Они предоставляют информацию, аналогичную той, что доступна в ClassificationReport, но вместо оценок высшего уровня они обеспечивают более глубокое понимание классификации отдельных точек данных."
   ]
  },
  {
   "cell_type": "code",
   "execution_count": 12,
   "metadata": {},
   "outputs": [
    {
     "data": {
      "image/png": "[encoded data removed]",
      "text/plain": [
       "<Figure size 432x288 with 2 Axes>"
      ]
     },
     "metadata": {
      "needs_background": "light"
     },
     "output_type": "display_data"
    },
    {
     "name": "stdout",
     "output_type": "stream",
     "text": [
      "test accuracy : 92.1875\n"
     ]
    }
   ],
   "source": [
    "import pandas as pd\n",
    "import seaborn as sns\n",
    "import tensorflow as tf\n",
    "model = tf.keras.models.load_model(\"clothes_data\\Saved_Model\\ResNet50_clothes.h5\")\n",
    "filenames = test_generator.filenames\n",
    "nb_samples = len(test_generator)\n",
    "y_prob=[]\n",
    "y_act=[]\n",
    "test_generator.reset()\n",
    "for _ in range(nb_samples):\n",
    "    X_test,Y_test = test_generator.next()\n",
    "    y_prob.append(model.predict(X_test))\n",
    "    y_act.append(Y_test)\n",
    "\n",
    "predicted_class = [list(train_generator.class_indices.keys())[i.argmax()] for i in y_prob]\n",
    "actual_class = [list(train_generator.class_indices.keys())[i.argmax()] for i in y_act]\n",
    "\n",
    "out_df = pd.DataFrame(np.vstack([predicted_class,actual_class]).T,columns=['predicted_class','actual_class'])\n",
    "confusion_matrix = pd.crosstab(out_df['actual_class'],out_df['predicted_class'], rownames=['Actual'], colnames=['Predicted'])\n",
    "\n",
    "sns.heatmap(confusion_matrix,cmap='Blues', annot=True, fmt='d')\n",
    "plt. show()\n",
    "print('test accuracy : {}'.format((np.diagonal(confusion_matrix).sum()/confusion_matrix.sum().sum()*100)))"
   ]
  },
  {
   "cell_type": "markdown",
   "metadata": {},
   "source": [
    "Как мы можем видеть, мы достигли довольно высокой точности (около 90 процентов), используя ResNet50 c тем же набором данных. "
   ]
  }
 ],
 "metadata": {
  "kernelspec": {
   "display_name": "Python 3 (ipykernel)",
   "language": "python",
   "name": "python3"
  },
  "language_info": {
   "codemirror_mode": {
    "name": "ipython",
    "version": 3
   },
   "file_extension": ".py",
   "mimetype": "text/x-python",
   "name": "python",
   "nbconvert_exporter": "python",
   "pygments_lexer": "ipython3",
   "version": "3.9.7"
  }
 },
 "nbformat": 4,
 "nbformat_minor": 4
}
